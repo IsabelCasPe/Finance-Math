{
  "nbformat": 4,
  "nbformat_minor": 0,
  "metadata": {
    "colab": {
      "provenance": []
    },
    "kernelspec": {
      "name": "python3",
      "display_name": "Python 3"
    },
    "language_info": {
      "name": "python"
    }
  },
  "cells": [
    {
      "cell_type": "markdown",
      "source": [
        "# Capítulo 1: Juros"
      ],
      "metadata": {
        "id": "fr5LxrLZGJDn"
      }
    },
    {
      "cell_type": "code",
      "source": [
        "import numpy as np"
      ],
      "metadata": {
        "id": "pRud4nOKGUBV"
      },
      "execution_count": 2,
      "outputs": []
    },
    {
      "cell_type": "code",
      "source": [
        "def juros_simples(capital, taxa, tempo):\n",
        "    \"\"\"Calcula o montante com juros simples: M = C + C*i*t\"\"\"\n",
        "    juros = capital * taxa * tempo\n",
        "    return capital + juros"
      ],
      "metadata": {
        "id": "yX2h_ucCGbDN"
      },
      "execution_count": 3,
      "outputs": []
    },
    {
      "cell_type": "code",
      "source": [
        "def juros_compostos(capital, taxa, tempo):\n",
        "    \"\"\"Calcula o montante com juros compostos: M = C*(1+i)^t\"\"\"\n",
        "    return capital * (1 + taxa) ** tempo"
      ],
      "metadata": {
        "id": "zDiiWYl3GehS"
      },
      "execution_count": 4,
      "outputs": []
    },
    {
      "cell_type": "code",
      "execution_count": 5,
      "metadata": {
        "colab": {
          "base_uri": "https://localhost:8080/"
        },
        "id": "4Jd-RxV3DgD-",
        "outputId": "1c3fbd56-7254-4130-b4d2-51321dda43e9"
      },
      "outputs": [
        {
          "output_type": "stream",
          "name": "stdout",
          "text": [
            "Capítulo 1: Juros Simples e Compostos\n",
            "Juros Simples: Montante = R$1150.00\n",
            "Juros Compostos: Montante = R$1157.63\n"
          ]
        }
      ],
      "source": [
        "# Exemplo prático (baseado em Cap1)\n",
        "print(\"Capítulo 1: Juros Simples e Compostos\")\n",
        "capital = 1000  # R$1.000\n",
        "taxa = 0.05     # 5% a.a.\n",
        "tempo = 3       # 3 anos\n",
        "\n",
        "m_simples = juros_simples(capital, taxa, tempo)\n",
        "m_compostos = juros_compostos(capital, taxa, tempo)\n",
        "\n",
        "print(f\"Juros Simples: Montante = R${m_simples:.2f}\")\n",
        "print(f\"Juros Compostos: Montante = R${m_compostos:.2f}\")"
      ]
    },
    {
      "cell_type": "markdown",
      "source": [
        "Capítulo 1: Juros Simples e Compostos\n",
        "Juros Simples: Montante = R$1150.00\n",
        "Juros Compostos: Montante = R$1157.63\n"
      ],
      "metadata": {
        "id": "NZJkuCAcDyiB"
      }
    }
  ]
}